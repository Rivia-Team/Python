{
 "cells": [
  {
   "cell_type": "code",
   "execution_count": null,
   "metadata": {},
   "outputs": [],
   "source": [
    "\"\"\"\n",
    "A generator in Python is similar to a function except instead of returning a value and exiting a process, \n",
    "a generator will pause the process, saving its state for next time. The biggest difference between a \n",
    "function and generator from a code perspective is one word: return is changed to yield.\n",
    "\n",
    "A generator becomes very useful when dealing with very large collections of data that you don’t want \n",
    "to store in memory all at once. It’s also very useful for dealing with extremely large or even infinite series.\n",
    "\n",
    "Below is an example of how to use a generator to print even numbers. Printing all even numbers at \n",
    "once would take an infinite amount of time, but the generator allows the process to pause, and \n",
    "go back to creating even numbers when needed.\n",
    "\n",
    "To create the next successive even number simply call next() on the generator object, and it will \n",
    "yield the next iteration. After yield is called, everything in the state of the generator function \n",
    "freezes, and the value is returned. When the generator is called again with next(), it picks back \n",
    "up right where it stopped at yield from before.\n",
    "\"\"\"\n",
    "\n",
    "\n",
    "def main():\n",
    "    lessons = [\"Why Python Programming\", \"Data Types and Operators\", \"Control Flow\", \"Functions\", \"Scripting\"]\n",
    "\n",
    "    for i, lesson in my_enumerate(lessons, 2):\n",
    "        print(\"Lesson {}: {}\".format(i, lesson))\n",
    "\n",
    "\n",
    "def my_enumerate(iterable, start=0):\n",
    "        for item in iterable:\n",
    "            yield start, item\n",
    "            start += 1\n",
    "            \n",
    "\n",
    "main()\n",
    "\n"
   ]
  },
  {
   "cell_type": "code",
   "execution_count": null,
   "metadata": {},
   "outputs": [],
   "source": [
    "# Definition of the generator to produce even numbers.\n",
    "def all_even():\n",
    "    n = 0\n",
    "    while True:\n",
    "        yield n\n",
    "        n += 2\n",
    "\n",
    "my_gen = all_even()\n",
    "\n",
    "# Generate the first 5 even numbers.\n",
    "for i in range(5):\n",
    "    print(next(my_gen))\n",
    "\n",
    "# Now go and do some other processing.\n",
    "do_something = 4\n",
    "do_something += 3\n",
    "print(do_something)\n",
    "\n",
    "# Now go back to generating more even numbers.\n",
    "for i in range(100):\n",
    "    print(next(my_gen))"
   ]
  },
  {
   "cell_type": "code",
   "execution_count": null,
   "metadata": {},
   "outputs": [],
   "source": [
    "import math\n",
    "\n",
    "def chunker(iterable, size):\n",
    "    start = 0\n",
    "    end = size\n",
    "    \n",
    "    for i in range(math.ceil(len(iterable) / size)):\n",
    "        yield iterable[start:end]\n",
    "        start += size\n",
    "        end += size\n",
    "        \n",
    "\n",
    "for chunk in chunker(range(25), 4):\n",
    "    print(list(chunk))"
   ]
  },
  {
   "cell_type": "code",
   "execution_count": null,
   "metadata": {},
   "outputs": [],
   "source": [
    "def chunker(iterable, size):\n",
    "    \"\"\"Yield successive chunks from iterable of length size.\"\"\"\n",
    "    for i in range(0, len(iterable), size):\n",
    "        yield iterable[i:i + size]\n",
    "\n",
    "for chunk in chunker(range(25), 4):\n",
    "    print(list(chunk))"
   ]
  },
  {
   "cell_type": "code",
   "execution_count": null,
   "metadata": {},
   "outputs": [],
   "source": [
    "\"\"\"\n",
    "Here's a cool concept that combines generators and list comprehensions! \n",
    "You can actually create a generator in the same way you'd normally write\n",
    "a list comprehension,except with parentheses instead of square brackets.\n",
    "\"\"\"\n",
    "\n",
    "sq_list = [x**2 for x in range(10)]  # this produces a list of squares\n",
    "sq_iterator = (x**2 for x in range(10))  # this produces an iterator of squares\n",
    "\n",
    "print(type(sq_list)) # list\n",
    "print(type(sq_iterator)) # generator\n",
    "\n",
    "def get_squares(start, stop):\n",
    "    yield (x**2 for x in range(start, stop))\n",
    "\n",
    "for i in get_squares(0, 10):\n",
    "    print(list(i))\n"
   ]
  },
  {
   "cell_type": "code",
   "execution_count": null,
   "metadata": {},
   "outputs": [],
   "source": []
  }
 ],
 "metadata": {
  "kernelspec": {
   "display_name": "Python 3",
   "language": "python",
   "name": "python3"
  },
  "language_info": {
   "codemirror_mode": {
    "name": "ipython",
    "version": 3
   },
   "file_extension": ".py",
   "mimetype": "text/x-python",
   "name": "python",
   "nbconvert_exporter": "python",
   "pygments_lexer": "ipython3",
   "version": "3.8.2-final"
  }
 },
 "nbformat": 4,
 "nbformat_minor": 4
}