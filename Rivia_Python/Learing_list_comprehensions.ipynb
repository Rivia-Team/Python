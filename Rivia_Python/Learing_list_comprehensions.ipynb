{
 "cells": [
  {
   "cell_type": "code",
   "execution_count": null,
   "metadata": {},
   "outputs": [],
   "source": [
    "# create a simple list comprehension that returns the values each num in nums * 10\n",
    "nums = [10, 20, 30]\n",
    "[x * 10 for x in nums]"
   ]
  },
  {
   "cell_type": "code",
   "execution_count": null,
   "metadata": {},
   "outputs": [],
   "source": [
    "# create a simple list comprehension that returns the even numbers of a given list of nums\n",
    "nums = range(21)\n",
    "[num for num in nums if num % 2 == 0]"
   ]
  },
  {
   "cell_type": "code",
   "execution_count": null,
   "metadata": {},
   "outputs": [],
   "source": [
    "# create a simple list comprehension that returns the letters of all colors with names longer than 6 characters in UPPERCASE\n",
    "# otherwise print the pattern '--x--', cuz it looks kewl\n",
    "colors = ['yellow', 'blue', 'red', 'green', 'purple', 'redvelvet', 'limestone']\n",
    "[color.upper() if len(color) > 6 else print(\"--x--\") for color in colors]"
   ]
  },
  {
   "cell_type": "code",
   "execution_count": null,
   "metadata": {},
   "outputs": [],
   "source": [
    "# for a given string return it excluding any vowels\n",
    "message = 'To be or not to be that is the question'\n",
    "''.join(char for char in message if char not in 'aeiou')"
   ]
  },
  {
   "cell_type": "code",
   "execution_count": null,
   "metadata": {},
   "outputs": [],
   "source": [
    "# return a list of the first character of a name in each name in a list\n",
    "names = ['Bob', 'Charles', 'Mary']\n",
    "[x[0] for x in names]"
   ]
  },
  {
   "cell_type": "code",
   "execution_count": null,
   "metadata": {},
   "outputs": [],
   "source": [
    "# given two list [1, 2, 3, 4] and [3, 4, 5, 6] use list comprehension to create a list with the intersection\n",
    "# of the two original lists\n",
    "[x for x in [1, 2, 3, 4] if x in [3, 4, 5, 6]]"
   ]
  },
  {
   "cell_type": "code",
   "execution_count": null,
   "metadata": {},
   "outputs": [],
   "source": [
    "# given a list of words ['Charles', 'Isreal', 'Jordyn', 'C4'] return the reverse string for each name\n",
    "# each name should be in lowercase\n",
    "[name[::-1].lower() for name in ['Charles', 'Isreal', 'Jordyn', 'C4']]"
   ]
  },
  {
   "cell_type": "code",
   "execution_count": null,
   "metadata": {},
   "outputs": [],
   "source": [
    "# for all the numbers 1 - 100 (100 inclusive) return a list of all the numbers divisible by 12\n",
    "[num for num in range(1, 101) if num % 12 == 0]"
   ]
  },
  {
   "cell_type": "code",
   "execution_count": null,
   "metadata": {},
   "outputs": [],
   "source": [
    "# Given the string 'Route53' return a list of letters not in ['a', 'e', 'i', 'o', 'u']\n",
    "[char for char in 'amazing' if char not in ['a', 'e', 'i', 'o', 'u']]"
   ]
  },
  {
   "cell_type": "code",
   "execution_count": null,
   "metadata": {},
   "outputs": [],
   "source": [
    "# Nested List Comprehension\n",
    "# create a 3 dimensional list of '*'\n",
    "[['*' for x in range(1, 4)] for y in range(1, 4)]"
   ]
  },
  {
   "cell_type": "code",
   "execution_count": null,
   "metadata": {},
   "outputs": [],
   "source": [
    "# using list comprehension create a nested list of values [[0, 1, 2], [0, 1, 2], [0, 1, 2]]\n",
    "[[x for x in range(0, 3)] for y in range(1, 4)]"
   ]
  },
  {
   "cell_type": "code",
   "execution_count": null,
   "metadata": {},
   "outputs": [],
   "source": [
    "# create a 10x10 nested list of 10 rows each row contains the numbers 0-9\n",
    "[[x for x in range(0, 10)] for y in range(0, 10)]"
   ]
  }
 ],
 "metadata": {
  "kernelspec": {
   "display_name": "Python 3",
   "language": "python",
   "name": "python3"
  },
  "language_info": {
   "codemirror_mode": {
    "name": "ipython",
    "version": 3
   },
   "file_extension": ".py",
   "mimetype": "text/x-python",
   "name": "python",
   "nbconvert_exporter": "python",
   "pygments_lexer": "ipython3",
   "version": "3.7.6-final"
  }
 },
 "nbformat": 4,
 "nbformat_minor": 1
}